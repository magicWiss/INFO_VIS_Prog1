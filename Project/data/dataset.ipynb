{
 "cells": [
  {
   "attachments": {},
   "cell_type": "markdown",
   "metadata": {},
   "source": [
    "### Dataset\n",
    "\n",
    "#### Il dataset è stato costruito a partire da 3 json distinti. Ogni dataset è uno snapshot dei dati dati in output da un mini modello clusterizzazione sviluppato durante il corso di Machine Learning.\n"
   ]
  },
  {
   "cell_type": "code",
   "execution_count": 1,
   "metadata": {},
   "outputs": [],
   "source": [
    "import json\n",
    "\n",
    "# Load the JSON datasets\n",
    "with open('ds.json') as file:\n",
    "    dataset1 = json.load(file)\n",
    "\n",
    "with open('ds2.json') as file:\n",
    "    dataset2 = json.load(file)\n",
    "\n",
    "with open('ds1.json') as file:\n",
    "    dataset3 = json.load(file)\n",
    "\n",
    "# Create an empty list to store the merged data\n",
    "merged_data = []\n",
    "\n",
    "# Iterate over the datasets and merge the rows based on the ID\n",
    "for data1, data2, data3 in zip(dataset1, dataset2, dataset3):\n",
    "    merged_row = {\n",
    "        'id': data1['id'],\n",
    "        'x1': data1['x'],\n",
    "        'y1': data1['y'],\n",
    "        'x2': data2['x'],\n",
    "        'y2': data2['y'],\n",
    "        'x3': data3['x'],\n",
    "        'y3': data3['y']\n",
    "    }\n",
    "    merged_data.append(merged_row)\n",
    "\n",
    "# Convert the merged data to JSON\n",
    "result_json = json.dumps(merged_data,indent=4)\n",
    "\n",
    "\n",
    "# Save the result JSON to a file\n",
    "with open('data.json', 'w') as file:\n",
    "    file.write(result_json)\n"
   ]
  }
 ],
 "metadata": {
  "kernelspec": {
   "display_name": "Python 3",
   "language": "python",
   "name": "python3"
  },
  "language_info": {
   "codemirror_mode": {
    "name": "ipython",
    "version": 3
   },
   "file_extension": ".py",
   "mimetype": "text/x-python",
   "name": "python",
   "nbconvert_exporter": "python",
   "pygments_lexer": "ipython3",
   "version": "3.9.13"
  },
  "orig_nbformat": 4
 },
 "nbformat": 4,
 "nbformat_minor": 2
}
